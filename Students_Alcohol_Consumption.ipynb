{
  "nbformat": 4,
  "nbformat_minor": 0,
  "metadata": {
    "colab": {
      "provenance": [],
      "authorship_tag": "ABX9TyPanqWavMOUipvyiHYdjDLB",
      "include_colab_link": true
    },
    "kernelspec": {
      "name": "python3",
      "display_name": "Python 3"
    },
    "language_info": {
      "name": "python"
    }
  },
  "cells": [
    {
      "cell_type": "markdown",
      "metadata": {
        "id": "view-in-github",
        "colab_type": "text"
      },
      "source": [
        "<a href=\"https://colab.research.google.com/github/MonaYounisGIS/AI_Tasks/blob/main/Students_Alcohol_Consumption.ipynb\" target=\"_parent\"><img src=\"https://colab.research.google.com/assets/colab-badge.svg\" alt=\"Open In Colab\"/></a>"
      ]
    },
    {
      "cell_type": "code",
      "execution_count": 2,
      "metadata": {
        "id": "W94yRMXIntDF"
      },
      "outputs": [],
      "source": [
        "import pandas as pd"
      ]
    },
    {
      "cell_type": "code",
      "source": [
        "\n",
        "# URL for the student-mat dataset\n",
        "url = \"https://raw.githubusercontent.com/guipsamora/pandas_exercises/master/04_Apply/Students_Alcohol_Consumption/student-mat.csv\"\n",
        "\n",
        "# Read the dataset into a DataFrame and assign it to the variable 'df'\n",
        "df = pd.read_csv(url)\n",
        "\n",
        "# Display the first few rows of the DataFrame\n",
        "print(df.head())\n"
      ],
      "metadata": {
        "colab": {
          "base_uri": "https://localhost:8080/"
        },
        "id": "ZBZxpYP_nxxz",
        "outputId": "943810b5-05d8-4c11-84e1-08af2cfddb33"
      },
      "execution_count": 3,
      "outputs": [
        {
          "output_type": "stream",
          "name": "stdout",
          "text": [
            "  school sex  age address famsize Pstatus  Medu  Fedu     Mjob      Fjob  ...  \\\n",
            "0     GP   F   18       U     GT3       A     4     4  at_home   teacher  ...   \n",
            "1     GP   F   17       U     GT3       T     1     1  at_home     other  ...   \n",
            "2     GP   F   15       U     LE3       T     1     1  at_home     other  ...   \n",
            "3     GP   F   15       U     GT3       T     4     2   health  services  ...   \n",
            "4     GP   F   16       U     GT3       T     3     3    other     other  ...   \n",
            "\n",
            "  famrel freetime  goout  Dalc  Walc health absences  G1  G2  G3  \n",
            "0      4        3      4     1     1      3        6   5   6   6  \n",
            "1      5        3      3     1     1      3        4   5   5   6  \n",
            "2      4        3      2     2     3      3       10   7   8  10  \n",
            "3      3        2      2     1     1      5        2  15  14  15  \n",
            "4      4        3      2     1     2      5        4   6  10  10  \n",
            "\n",
            "[5 rows x 33 columns]\n"
          ]
        }
      ]
    },
    {
      "cell_type": "code",
      "source": [
        "# Slice the DataFrame from 'school' until 'guardian' columns\n",
        "df_sliced = df.loc[:, 'school':'guardian']\n",
        "\n",
        "# Display the sliced DataFrame\n",
        "print(df_sliced.head())"
      ],
      "metadata": {
        "colab": {
          "base_uri": "https://localhost:8080/"
        },
        "id": "EOFK_Z21nt72",
        "outputId": "e6f52b15-029a-4425-8078-fe70faaf55c4"
      },
      "execution_count": 4,
      "outputs": [
        {
          "output_type": "stream",
          "name": "stdout",
          "text": [
            "  school sex  age address famsize Pstatus  Medu  Fedu     Mjob      Fjob  \\\n",
            "0     GP   F   18       U     GT3       A     4     4  at_home   teacher   \n",
            "1     GP   F   17       U     GT3       T     1     1  at_home     other   \n",
            "2     GP   F   15       U     LE3       T     1     1  at_home     other   \n",
            "3     GP   F   15       U     GT3       T     4     2   health  services   \n",
            "4     GP   F   16       U     GT3       T     3     3    other     other   \n",
            "\n",
            "   reason guardian  \n",
            "0  course   mother  \n",
            "1  course   father  \n",
            "2   other   mother  \n",
            "3    home   mother  \n",
            "4    home   father  \n"
          ]
        }
      ]
    },
    {
      "cell_type": "code",
      "source": [
        "capitalize_string = lambda x: x.capitalize()\n",
        "\n",
        "# Test the lambda function\n",
        "example_string = \"hello\"\n",
        "capitalized_result = capitalize_string(example_string)\n",
        "\n",
        "print(f\"Original string: {example_string}\")\n",
        "print(f\"Capitalized result: {capitalized_result}\")"
      ],
      "metadata": {
        "colab": {
          "base_uri": "https://localhost:8080/"
        },
        "id": "oau7NVRYnt_L",
        "outputId": "dca9f5cc-c932-420e-cd80-0d13602fa4d8"
      },
      "execution_count": 5,
      "outputs": [
        {
          "output_type": "stream",
          "name": "stdout",
          "text": [
            "Original string: hello\n",
            "Capitalized result: Hello\n"
          ]
        }
      ]
    },
    {
      "cell_type": "code",
      "source": [
        "\n",
        "# Create a lambda function to capitalize strings\n",
        "capitalize_string = lambda x: x.capitalize() if isinstance(x, str) else x\n",
        "\n",
        "# Apply the lambda function to 'Mjob' and 'Fjob' columns using applymap\n",
        "df[['Mjob', 'Fjob']] = df[['Mjob', 'Fjob']].applymap(capitalize_string)\n",
        "\n",
        "# Display the updated DataFrame\n",
        "print(df[['Mjob', 'Fjob']].head())"
      ],
      "metadata": {
        "colab": {
          "base_uri": "https://localhost:8080/"
        },
        "id": "TlWVzxzunuDK",
        "outputId": "22df58a3-b913-4543-fcb0-9fba7c9aa94d"
      },
      "execution_count": 6,
      "outputs": [
        {
          "output_type": "stream",
          "name": "stdout",
          "text": [
            "      Mjob      Fjob\n",
            "0  At_home   Teacher\n",
            "1  At_home     Other\n",
            "2  At_home     Other\n",
            "3   Health  Services\n",
            "4    Other     Other\n"
          ]
        }
      ]
    },
    {
      "cell_type": "code",
      "source": [
        "# Display the last elements of the dataset\n",
        "print(df.tail())"
      ],
      "metadata": {
        "colab": {
          "base_uri": "https://localhost:8080/"
        },
        "id": "rLbNFRZNqSQ_",
        "outputId": "56dfcbb9-be9c-47a7-cf1b-eedf76ef1fd3"
      },
      "execution_count": 7,
      "outputs": [
        {
          "output_type": "stream",
          "name": "stdout",
          "text": [
            "    school sex  age address famsize Pstatus  Medu  Fedu      Mjob      Fjob  \\\n",
            "390     MS   M   20       U     LE3       A     2     2  Services  Services   \n",
            "391     MS   M   17       U     LE3       T     3     1  Services  Services   \n",
            "392     MS   M   21       R     GT3       T     1     1     Other     Other   \n",
            "393     MS   M   18       R     LE3       T     3     2  Services     Other   \n",
            "394     MS   M   19       U     LE3       T     1     1     Other   At_home   \n",
            "\n",
            "     ... famrel freetime  goout  Dalc  Walc health absences  G1  G2  G3  \n",
            "390  ...      5        5      4     4     5      4       11   9   9   9  \n",
            "391  ...      2        4      5     3     4      2        3  14  16  16  \n",
            "392  ...      5        5      3     3     3      3        3  10   8   7  \n",
            "393  ...      4        4      1     3     4      5        0  11  12  10  \n",
            "394  ...      3        2      3     3     3      5        5   8   9   9  \n",
            "\n",
            "[5 rows x 33 columns]\n"
          ]
        }
      ]
    },
    {
      "cell_type": "code",
      "source": [
        "\n",
        "# Create a lambda function to capitalize strings\n",
        "capitalize_string = lambda x: x.capitalize() if isinstance(x, str) else x\n",
        "\n",
        "# Apply the lambda function and update the 'Mjob' and 'Fjob' columns\n",
        "df[['Mjob', 'Fjob']] = df[['Mjob', 'Fjob']].applymap(capitalize_string)\n",
        "\n",
        "# Display the updated DataFrame\n",
        "print(df[['Mjob', 'Fjob']].head())"
      ],
      "metadata": {
        "colab": {
          "base_uri": "https://localhost:8080/"
        },
        "id": "-cgCLiz4qSUs",
        "outputId": "dfee274e-79f4-4005-b98b-33656c8acf29"
      },
      "execution_count": 8,
      "outputs": [
        {
          "output_type": "stream",
          "name": "stdout",
          "text": [
            "      Mjob      Fjob\n",
            "0  At_home   Teacher\n",
            "1  At_home     Other\n",
            "2  At_home     Other\n",
            "3   Health  Services\n",
            "4    Other     Other\n"
          ]
        }
      ]
    },
    {
      "cell_type": "code",
      "source": [
        "\n",
        "# Create a function to determine if a person is older than 17\n",
        "def majority(age):\n",
        "    return age > 17\n",
        "\n",
        "# Apply the majority function to create a new column 'legal_drinker'\n",
        "df['legal_drinker'] = df['age'].apply(majority)\n",
        "\n",
        "# Display the updated DataFrame with the new 'legal_drinker' column\n",
        "print(df[['age', 'legal_drinker']].head())"
      ],
      "metadata": {
        "colab": {
          "base_uri": "https://localhost:8080/"
        },
        "id": "rdGvoJnyqSYk",
        "outputId": "5881e62c-a395-464a-9efe-7521a47c4b75"
      },
      "execution_count": 9,
      "outputs": [
        {
          "output_type": "stream",
          "name": "stdout",
          "text": [
            "   age  legal_drinker\n",
            "0   18           True\n",
            "1   17          False\n",
            "2   15          False\n",
            "3   15          False\n",
            "4   16          False\n"
          ]
        }
      ]
    },
    {
      "cell_type": "code",
      "source": [
        "# Create a function to multiply a number by 10\n",
        "multiply_by_10 = lambda x: x * 10 if isinstance(x, (int, float)) else x\n",
        "\n",
        "# Apply the function to every element in the DataFrame\n",
        "df = df.applymap(multiply_by_10)\n",
        "\n",
        "# Display the updated DataFrame\n",
        "print(df.head())"
      ],
      "metadata": {
        "colab": {
          "base_uri": "https://localhost:8080/"
        },
        "id": "dhRADjLYqSbs",
        "outputId": "f25e17e6-7495-4e06-9557-be97a62a1f1e"
      },
      "execution_count": 10,
      "outputs": [
        {
          "output_type": "stream",
          "name": "stdout",
          "text": [
            "  school sex  age address famsize Pstatus  Medu  Fedu     Mjob      Fjob  ...  \\\n",
            "0     GP   F  180       U     GT3       A    40    40  At_home   Teacher  ...   \n",
            "1     GP   F  170       U     GT3       T    10    10  At_home     Other  ...   \n",
            "2     GP   F  150       U     LE3       T    10    10  At_home     Other  ...   \n",
            "3     GP   F  150       U     GT3       T    40    20   Health  Services  ...   \n",
            "4     GP   F  160       U     GT3       T    30    30    Other     Other  ...   \n",
            "\n",
            "  freetime goout  Dalc  Walc  health absences   G1   G2   G3 legal_drinker  \n",
            "0       30    40    10    10      30       60   50   60   60            10  \n",
            "1       30    30    10    10      30       40   50   50   60             0  \n",
            "2       30    20    20    30      30      100   70   80  100             0  \n",
            "3       20    20    10    10      50       20  150  140  150             0  \n",
            "4       30    20    10    20      50       40   60  100  100             0  \n",
            "\n",
            "[5 rows x 34 columns]\n"
          ]
        }
      ]
    }
  ]
}