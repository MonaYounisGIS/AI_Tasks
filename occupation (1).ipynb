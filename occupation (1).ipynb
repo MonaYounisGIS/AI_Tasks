{
 "cells": [
  {
   "cell_type": "code",
   "execution_count": 1,
   "id": "498c188a",
   "metadata": {
    "execution": {
     "iopub.execute_input": "2023-11-06T20:04:39.538654Z",
     "iopub.status.busy": "2023-11-06T20:04:39.537894Z",
     "iopub.status.idle": "2023-11-06T20:04:39.900026Z",
     "shell.execute_reply": "2023-11-06T20:04:39.899131Z"
    },
    "papermill": {
     "duration": 0.371026,
     "end_time": "2023-11-06T20:04:39.902517",
     "exception": false,
     "start_time": "2023-11-06T20:04:39.531491",
     "status": "completed"
    },
    "tags": []
   },
   "outputs": [],
   "source": [
    "import pandas as pd"
   ]
  },
  {
   "cell_type": "code",
   "execution_count": 2,
   "id": "0dc90169",
   "metadata": {
    "execution": {
     "iopub.execute_input": "2023-11-06T20:04:39.915038Z",
     "iopub.status.busy": "2023-11-06T20:04:39.914411Z",
     "iopub.status.idle": "2023-11-06T20:04:40.339168Z",
     "shell.execute_reply": "2023-11-06T20:04:40.337500Z"
    },
    "papermill": {
     "duration": 0.43368,
     "end_time": "2023-11-06T20:04:40.342159",
     "exception": false,
     "start_time": "2023-11-06T20:04:39.908479",
     "status": "completed"
    },
    "tags": []
   },
   "outputs": [
    {
     "data": {
      "text/html": [
       "<div>\n",
       "<style scoped>\n",
       "    .dataframe tbody tr th:only-of-type {\n",
       "        vertical-align: middle;\n",
       "    }\n",
       "\n",
       "    .dataframe tbody tr th {\n",
       "        vertical-align: top;\n",
       "    }\n",
       "\n",
       "    .dataframe thead th {\n",
       "        text-align: right;\n",
       "    }\n",
       "</style>\n",
       "<table border=\"1\" class=\"dataframe\">\n",
       "  <thead>\n",
       "    <tr style=\"text-align: right;\">\n",
       "      <th></th>\n",
       "      <th>user_id|age|gender|occupation|zip_code</th>\n",
       "    </tr>\n",
       "  </thead>\n",
       "  <tbody>\n",
       "    <tr>\n",
       "      <th>0</th>\n",
       "      <td>1|24|M|technician|85711</td>\n",
       "    </tr>\n",
       "    <tr>\n",
       "      <th>1</th>\n",
       "      <td>2|53|F|other|94043</td>\n",
       "    </tr>\n",
       "    <tr>\n",
       "      <th>2</th>\n",
       "      <td>3|23|M|writer|32067</td>\n",
       "    </tr>\n",
       "    <tr>\n",
       "      <th>3</th>\n",
       "      <td>4|24|M|technician|43537</td>\n",
       "    </tr>\n",
       "    <tr>\n",
       "      <th>4</th>\n",
       "      <td>5|33|F|other|15213</td>\n",
       "    </tr>\n",
       "    <tr>\n",
       "      <th>...</th>\n",
       "      <td>...</td>\n",
       "    </tr>\n",
       "    <tr>\n",
       "      <th>938</th>\n",
       "      <td>939|26|F|student|33319</td>\n",
       "    </tr>\n",
       "    <tr>\n",
       "      <th>939</th>\n",
       "      <td>940|32|M|administrator|02215</td>\n",
       "    </tr>\n",
       "    <tr>\n",
       "      <th>940</th>\n",
       "      <td>941|20|M|student|97229</td>\n",
       "    </tr>\n",
       "    <tr>\n",
       "      <th>941</th>\n",
       "      <td>942|48|F|librarian|78209</td>\n",
       "    </tr>\n",
       "    <tr>\n",
       "      <th>942</th>\n",
       "      <td>943|22|M|student|77841</td>\n",
       "    </tr>\n",
       "  </tbody>\n",
       "</table>\n",
       "<p>943 rows × 1 columns</p>\n",
       "</div>"
      ],
      "text/plain": [
       "    user_id|age|gender|occupation|zip_code\n",
       "0                  1|24|M|technician|85711\n",
       "1                       2|53|F|other|94043\n",
       "2                      3|23|M|writer|32067\n",
       "3                  4|24|M|technician|43537\n",
       "4                       5|33|F|other|15213\n",
       "..                                     ...\n",
       "938                 939|26|F|student|33319\n",
       "939           940|32|M|administrator|02215\n",
       "940                 941|20|M|student|97229\n",
       "941               942|48|F|librarian|78209\n",
       "942                 943|22|M|student|77841\n",
       "\n",
       "[943 rows x 1 columns]"
      ]
     },
     "execution_count": 2,
     "metadata": {},
     "output_type": "execute_result"
    }
   ],
   "source": [
    "Occupation= pd.read_table('https://raw.githubusercontent.com/justmarkham/DAT8/master/data/u.user')\n",
    "Occupation"
   ]
  },
  {
   "cell_type": "code",
   "execution_count": 3,
   "id": "39a773c7",
   "metadata": {
    "execution": {
     "iopub.execute_input": "2023-11-06T20:04:40.352561Z",
     "iopub.status.busy": "2023-11-06T20:04:40.352184Z",
     "iopub.status.idle": "2023-11-06T20:04:40.511257Z",
     "shell.execute_reply": "2023-11-06T20:04:40.509362Z"
    },
    "papermill": {
     "duration": 0.167064,
     "end_time": "2023-11-06T20:04:40.513696",
     "exception": false,
     "start_time": "2023-11-06T20:04:40.346632",
     "status": "completed"
    },
    "tags": []
   },
   "outputs": [
    {
     "name": "stdout",
     "output_type": "stream",
     "text": [
      "         age  gender     occupation  zip_code\n",
      "user_id                                      \n",
      "user_id  age  gender     occupation  zip_code\n",
      "1         24       M     technician     85711\n",
      "2         53       F          other     94043\n",
      "3         23       M         writer     32067\n",
      "4         24       M     technician     43537\n",
      "...      ...     ...            ...       ...\n",
      "939       26       F        student     33319\n",
      "940       32       M  administrator     02215\n",
      "941       20       M        student     97229\n",
      "942       48       F      librarian     78209\n",
      "943       22       M        student     77841\n",
      "\n",
      "[944 rows x 4 columns]\n"
     ]
    }
   ],
   "source": [
    "url = 'https://raw.githubusercontent.com/justmarkham/DAT8/master/data/u.user'\n",
    "\n",
    "# Read the data into a DataFrame and set 'user_id' as the index\n",
    "users = pd.read_csv(url, sep='|', header=None, names=['user_id', 'age', 'gender', 'occupation', 'zip_code'])\n",
    "users.set_index('user_id', inplace=True)\n",
    "\n",
    "# Now, 'users' is your DataFrame with 'user_id' as the index\n",
    "print(users)"
   ]
  },
  {
   "cell_type": "code",
   "execution_count": 4,
   "id": "b63c90a9",
   "metadata": {
    "execution": {
     "iopub.execute_input": "2023-11-06T20:04:40.523341Z",
     "iopub.status.busy": "2023-11-06T20:04:40.523008Z",
     "iopub.status.idle": "2023-11-06T20:04:40.536276Z",
     "shell.execute_reply": "2023-11-06T20:04:40.535212Z"
    },
    "papermill": {
     "duration": 0.020529,
     "end_time": "2023-11-06T20:04:40.538367",
     "exception": false,
     "start_time": "2023-11-06T20:04:40.517838",
     "status": "completed"
    },
    "tags": []
   },
   "outputs": [
    {
     "data": {
      "text/html": [
       "<div>\n",
       "<style scoped>\n",
       "    .dataframe tbody tr th:only-of-type {\n",
       "        vertical-align: middle;\n",
       "    }\n",
       "\n",
       "    .dataframe tbody tr th {\n",
       "        vertical-align: top;\n",
       "    }\n",
       "\n",
       "    .dataframe thead th {\n",
       "        text-align: right;\n",
       "    }\n",
       "</style>\n",
       "<table border=\"1\" class=\"dataframe\">\n",
       "  <thead>\n",
       "    <tr style=\"text-align: right;\">\n",
       "      <th></th>\n",
       "      <th>age</th>\n",
       "      <th>gender</th>\n",
       "      <th>occupation</th>\n",
       "      <th>zip_code</th>\n",
       "    </tr>\n",
       "    <tr>\n",
       "      <th>user_id</th>\n",
       "      <th></th>\n",
       "      <th></th>\n",
       "      <th></th>\n",
       "      <th></th>\n",
       "    </tr>\n",
       "  </thead>\n",
       "  <tbody>\n",
       "    <tr>\n",
       "      <th>user_id</th>\n",
       "      <td>age</td>\n",
       "      <td>gender</td>\n",
       "      <td>occupation</td>\n",
       "      <td>zip_code</td>\n",
       "    </tr>\n",
       "    <tr>\n",
       "      <th>1</th>\n",
       "      <td>24</td>\n",
       "      <td>M</td>\n",
       "      <td>technician</td>\n",
       "      <td>85711</td>\n",
       "    </tr>\n",
       "    <tr>\n",
       "      <th>2</th>\n",
       "      <td>53</td>\n",
       "      <td>F</td>\n",
       "      <td>other</td>\n",
       "      <td>94043</td>\n",
       "    </tr>\n",
       "    <tr>\n",
       "      <th>3</th>\n",
       "      <td>23</td>\n",
       "      <td>M</td>\n",
       "      <td>writer</td>\n",
       "      <td>32067</td>\n",
       "    </tr>\n",
       "    <tr>\n",
       "      <th>4</th>\n",
       "      <td>24</td>\n",
       "      <td>M</td>\n",
       "      <td>technician</td>\n",
       "      <td>43537</td>\n",
       "    </tr>\n",
       "    <tr>\n",
       "      <th>5</th>\n",
       "      <td>33</td>\n",
       "      <td>F</td>\n",
       "      <td>other</td>\n",
       "      <td>15213</td>\n",
       "    </tr>\n",
       "    <tr>\n",
       "      <th>6</th>\n",
       "      <td>42</td>\n",
       "      <td>M</td>\n",
       "      <td>executive</td>\n",
       "      <td>98101</td>\n",
       "    </tr>\n",
       "    <tr>\n",
       "      <th>7</th>\n",
       "      <td>57</td>\n",
       "      <td>M</td>\n",
       "      <td>administrator</td>\n",
       "      <td>91344</td>\n",
       "    </tr>\n",
       "    <tr>\n",
       "      <th>8</th>\n",
       "      <td>36</td>\n",
       "      <td>M</td>\n",
       "      <td>administrator</td>\n",
       "      <td>05201</td>\n",
       "    </tr>\n",
       "    <tr>\n",
       "      <th>9</th>\n",
       "      <td>29</td>\n",
       "      <td>M</td>\n",
       "      <td>student</td>\n",
       "      <td>01002</td>\n",
       "    </tr>\n",
       "    <tr>\n",
       "      <th>10</th>\n",
       "      <td>53</td>\n",
       "      <td>M</td>\n",
       "      <td>lawyer</td>\n",
       "      <td>90703</td>\n",
       "    </tr>\n",
       "    <tr>\n",
       "      <th>11</th>\n",
       "      <td>39</td>\n",
       "      <td>F</td>\n",
       "      <td>other</td>\n",
       "      <td>30329</td>\n",
       "    </tr>\n",
       "    <tr>\n",
       "      <th>12</th>\n",
       "      <td>28</td>\n",
       "      <td>F</td>\n",
       "      <td>other</td>\n",
       "      <td>06405</td>\n",
       "    </tr>\n",
       "    <tr>\n",
       "      <th>13</th>\n",
       "      <td>47</td>\n",
       "      <td>M</td>\n",
       "      <td>educator</td>\n",
       "      <td>29206</td>\n",
       "    </tr>\n",
       "    <tr>\n",
       "      <th>14</th>\n",
       "      <td>45</td>\n",
       "      <td>M</td>\n",
       "      <td>scientist</td>\n",
       "      <td>55106</td>\n",
       "    </tr>\n",
       "    <tr>\n",
       "      <th>15</th>\n",
       "      <td>49</td>\n",
       "      <td>F</td>\n",
       "      <td>educator</td>\n",
       "      <td>97301</td>\n",
       "    </tr>\n",
       "    <tr>\n",
       "      <th>16</th>\n",
       "      <td>21</td>\n",
       "      <td>M</td>\n",
       "      <td>entertainment</td>\n",
       "      <td>10309</td>\n",
       "    </tr>\n",
       "    <tr>\n",
       "      <th>17</th>\n",
       "      <td>30</td>\n",
       "      <td>M</td>\n",
       "      <td>programmer</td>\n",
       "      <td>06355</td>\n",
       "    </tr>\n",
       "    <tr>\n",
       "      <th>18</th>\n",
       "      <td>35</td>\n",
       "      <td>F</td>\n",
       "      <td>other</td>\n",
       "      <td>37212</td>\n",
       "    </tr>\n",
       "    <tr>\n",
       "      <th>19</th>\n",
       "      <td>40</td>\n",
       "      <td>M</td>\n",
       "      <td>librarian</td>\n",
       "      <td>02138</td>\n",
       "    </tr>\n",
       "    <tr>\n",
       "      <th>20</th>\n",
       "      <td>42</td>\n",
       "      <td>F</td>\n",
       "      <td>homemaker</td>\n",
       "      <td>95660</td>\n",
       "    </tr>\n",
       "    <tr>\n",
       "      <th>21</th>\n",
       "      <td>26</td>\n",
       "      <td>M</td>\n",
       "      <td>writer</td>\n",
       "      <td>30068</td>\n",
       "    </tr>\n",
       "    <tr>\n",
       "      <th>22</th>\n",
       "      <td>25</td>\n",
       "      <td>M</td>\n",
       "      <td>writer</td>\n",
       "      <td>40206</td>\n",
       "    </tr>\n",
       "    <tr>\n",
       "      <th>23</th>\n",
       "      <td>30</td>\n",
       "      <td>F</td>\n",
       "      <td>artist</td>\n",
       "      <td>48197</td>\n",
       "    </tr>\n",
       "    <tr>\n",
       "      <th>24</th>\n",
       "      <td>21</td>\n",
       "      <td>F</td>\n",
       "      <td>artist</td>\n",
       "      <td>94533</td>\n",
       "    </tr>\n",
       "  </tbody>\n",
       "</table>\n",
       "</div>"
      ],
      "text/plain": [
       "         age  gender     occupation  zip_code\n",
       "user_id                                      \n",
       "user_id  age  gender     occupation  zip_code\n",
       "1         24       M     technician     85711\n",
       "2         53       F          other     94043\n",
       "3         23       M         writer     32067\n",
       "4         24       M     technician     43537\n",
       "5         33       F          other     15213\n",
       "6         42       M      executive     98101\n",
       "7         57       M  administrator     91344\n",
       "8         36       M  administrator     05201\n",
       "9         29       M        student     01002\n",
       "10        53       M         lawyer     90703\n",
       "11        39       F          other     30329\n",
       "12        28       F          other     06405\n",
       "13        47       M       educator     29206\n",
       "14        45       M      scientist     55106\n",
       "15        49       F       educator     97301\n",
       "16        21       M  entertainment     10309\n",
       "17        30       M     programmer     06355\n",
       "18        35       F          other     37212\n",
       "19        40       M      librarian     02138\n",
       "20        42       F      homemaker     95660\n",
       "21        26       M         writer     30068\n",
       "22        25       M         writer     40206\n",
       "23        30       F         artist     48197\n",
       "24        21       F         artist     94533"
      ]
     },
     "execution_count": 4,
     "metadata": {},
     "output_type": "execute_result"
    }
   ],
   "source": [
    "#See the first 25 entries\n",
    "\n",
    "users.head(25)\n"
   ]
  },
  {
   "cell_type": "code",
   "execution_count": 5,
   "id": "9c22c033",
   "metadata": {
    "execution": {
     "iopub.execute_input": "2023-11-06T20:04:40.549311Z",
     "iopub.status.busy": "2023-11-06T20:04:40.548621Z",
     "iopub.status.idle": "2023-11-06T20:04:40.557128Z",
     "shell.execute_reply": "2023-11-06T20:04:40.555680Z"
    },
    "papermill": {
     "duration": 0.016664,
     "end_time": "2023-11-06T20:04:40.559521",
     "exception": false,
     "start_time": "2023-11-06T20:04:40.542857",
     "status": "completed"
    },
    "tags": []
   },
   "outputs": [
    {
     "name": "stdout",
     "output_type": "stream",
     "text": [
      "        age gender     occupation zip_code\n",
      "user_id                                   \n",
      "934      61      M       engineer    22902\n",
      "935      42      M         doctor    66221\n",
      "936      24      M          other    32789\n",
      "937      48      M       educator    98072\n",
      "938      38      F     technician    55038\n",
      "939      26      F        student    33319\n",
      "940      32      M  administrator    02215\n",
      "941      20      M        student    97229\n",
      "942      48      F      librarian    78209\n",
      "943      22      M        student    77841\n"
     ]
    }
   ],
   "source": [
    "#See the last 10 entries\n",
    "last_10_entries = users.tail(10)\n",
    "print(last_10_entries)"
   ]
  },
  {
   "cell_type": "code",
   "execution_count": 6,
   "id": "46e81bd6",
   "metadata": {
    "execution": {
     "iopub.execute_input": "2023-11-06T20:04:40.570096Z",
     "iopub.status.busy": "2023-11-06T20:04:40.569751Z",
     "iopub.status.idle": "2023-11-06T20:04:40.575288Z",
     "shell.execute_reply": "2023-11-06T20:04:40.574265Z"
    },
    "papermill": {
     "duration": 0.013555,
     "end_time": "2023-11-06T20:04:40.577670",
     "exception": false,
     "start_time": "2023-11-06T20:04:40.564115",
     "status": "completed"
    },
    "tags": []
   },
   "outputs": [
    {
     "name": "stdout",
     "output_type": "stream",
     "text": [
      "Number of observations in the dataset: 944\n"
     ]
    }
   ],
   "source": [
    "#What is the number of observations in the dataset?\n",
    "num_observations = users.shape[0]\n",
    "\n",
    "print(\"Number of observations in the dataset:\", num_observations)"
   ]
  },
  {
   "cell_type": "code",
   "execution_count": 7,
   "id": "dff3e82c",
   "metadata": {
    "execution": {
     "iopub.execute_input": "2023-11-06T20:04:40.588515Z",
     "iopub.status.busy": "2023-11-06T20:04:40.588182Z",
     "iopub.status.idle": "2023-11-06T20:04:40.593350Z",
     "shell.execute_reply": "2023-11-06T20:04:40.592315Z"
    },
    "papermill": {
     "duration": 0.013313,
     "end_time": "2023-11-06T20:04:40.595586",
     "exception": false,
     "start_time": "2023-11-06T20:04:40.582273",
     "status": "completed"
    },
    "tags": []
   },
   "outputs": [
    {
     "name": "stdout",
     "output_type": "stream",
     "text": [
      "Number of columns in the dataset: 4\n"
     ]
    }
   ],
   "source": [
    "# What is the number of columns in the dataset?\n",
    "num_columns = users.shape[1]\n",
    "\n",
    "print(\"Number of columns in the dataset:\", num_columns)"
   ]
  },
  {
   "cell_type": "code",
   "execution_count": 8,
   "id": "807a8ee5",
   "metadata": {
    "execution": {
     "iopub.execute_input": "2023-11-06T20:04:40.606799Z",
     "iopub.status.busy": "2023-11-06T20:04:40.606477Z",
     "iopub.status.idle": "2023-11-06T20:04:40.612965Z",
     "shell.execute_reply": "2023-11-06T20:04:40.611242Z"
    },
    "papermill": {
     "duration": 0.01476,
     "end_time": "2023-11-06T20:04:40.615134",
     "exception": false,
     "start_time": "2023-11-06T20:04:40.600374",
     "status": "completed"
    },
    "tags": []
   },
   "outputs": [
    {
     "name": "stdout",
     "output_type": "stream",
     "text": [
      "Column names: Index(['age', 'gender', 'occupation', 'zip_code'], dtype='object')\n"
     ]
    }
   ],
   "source": [
    "#Print the name of all the columns.\n",
    "column_names = users.columns\n",
    "print(\"Column names:\", column_names)"
   ]
  },
  {
   "cell_type": "code",
   "execution_count": 9,
   "id": "5aafd22d",
   "metadata": {
    "execution": {
     "iopub.execute_input": "2023-11-06T20:04:40.627245Z",
     "iopub.status.busy": "2023-11-06T20:04:40.626808Z",
     "iopub.status.idle": "2023-11-06T20:04:40.635091Z",
     "shell.execute_reply": "2023-11-06T20:04:40.633503Z"
    },
    "papermill": {
     "duration": 0.016993,
     "end_time": "2023-11-06T20:04:40.637166",
     "exception": false,
     "start_time": "2023-11-06T20:04:40.620173",
     "status": "completed"
    },
    "tags": []
   },
   "outputs": [
    {
     "name": "stdout",
     "output_type": "stream",
     "text": [
      "Data types of each column:\n",
      "age           object\n",
      "gender        object\n",
      "occupation    object\n",
      "zip_code      object\n",
      "dtype: object\n"
     ]
    }
   ],
   "source": [
    "#What is the data type of each column?\n",
    "column_data_types = users.dtypes\n",
    "print(\"Data types of each column:\")\n",
    "print(column_data_types)"
   ]
  },
  {
   "cell_type": "code",
   "execution_count": 10,
   "id": "f8d31ee9",
   "metadata": {
    "execution": {
     "iopub.execute_input": "2023-11-06T20:04:40.649091Z",
     "iopub.status.busy": "2023-11-06T20:04:40.648659Z",
     "iopub.status.idle": "2023-11-06T20:04:40.655787Z",
     "shell.execute_reply": "2023-11-06T20:04:40.654985Z"
    },
    "papermill": {
     "duration": 0.016391,
     "end_time": "2023-11-06T20:04:40.658570",
     "exception": false,
     "start_time": "2023-11-06T20:04:40.642179",
     "status": "completed"
    },
    "tags": []
   },
   "outputs": [
    {
     "name": "stdout",
     "output_type": "stream",
     "text": [
      "user_id\n",
      "user_id       occupation\n",
      "1             technician\n",
      "2                  other\n",
      "3                 writer\n",
      "4             technician\n",
      "               ...      \n",
      "939              student\n",
      "940        administrator\n",
      "941              student\n",
      "942            librarian\n",
      "943              student\n",
      "Name: occupation, Length: 944, dtype: object\n"
     ]
    }
   ],
   "source": [
    "#Print only the occupation column\n",
    "print(users['occupation'])"
   ]
  },
  {
   "cell_type": "code",
   "execution_count": 11,
   "id": "9cd7abe6",
   "metadata": {
    "execution": {
     "iopub.execute_input": "2023-11-06T20:04:40.672125Z",
     "iopub.status.busy": "2023-11-06T20:04:40.671782Z",
     "iopub.status.idle": "2023-11-06T20:04:40.680866Z",
     "shell.execute_reply": "2023-11-06T20:04:40.680187Z"
    },
    "papermill": {
     "duration": 0.018872,
     "end_time": "2023-11-06T20:04:40.683305",
     "exception": false,
     "start_time": "2023-11-06T20:04:40.664433",
     "status": "completed"
    },
    "tags": []
   },
   "outputs": [
    {
     "name": "stdout",
     "output_type": "stream",
     "text": [
      "Number of different occupations: 22\n"
     ]
    }
   ],
   "source": [
    "#How many different occupations are in this dataset?\n",
    "num_occupations = users['occupation'].nunique()\n",
    "print(\"Number of different occupations:\", num_occupations)"
   ]
  },
  {
   "cell_type": "code",
   "execution_count": 12,
   "id": "68c8d69c",
   "metadata": {
    "execution": {
     "iopub.execute_input": "2023-11-06T20:04:40.697146Z",
     "iopub.status.busy": "2023-11-06T20:04:40.696812Z",
     "iopub.status.idle": "2023-11-06T20:04:40.705112Z",
     "shell.execute_reply": "2023-11-06T20:04:40.704401Z"
    },
    "papermill": {
     "duration": 0.018494,
     "end_time": "2023-11-06T20:04:40.707677",
     "exception": false,
     "start_time": "2023-11-06T20:04:40.689183",
     "status": "completed"
    },
    "tags": []
   },
   "outputs": [
    {
     "name": "stdout",
     "output_type": "stream",
     "text": [
      "The most frequent occupation is: student\n"
     ]
    }
   ],
   "source": [
    "#What is the most frequent occupation?\n",
    "most_frequent_occupation = users['occupation'].value_counts().idxmax()\n",
    "\n",
    "print(\"The most frequent occupation is:\", most_frequent_occupation)\n"
   ]
  },
  {
   "cell_type": "code",
   "execution_count": 13,
   "id": "3a8e22f8",
   "metadata": {
    "execution": {
     "iopub.execute_input": "2023-11-06T20:04:40.723226Z",
     "iopub.status.busy": "2023-11-06T20:04:40.722684Z",
     "iopub.status.idle": "2023-11-06T20:04:40.737556Z",
     "shell.execute_reply": "2023-11-06T20:04:40.736520Z"
    },
    "papermill": {
     "duration": 0.026037,
     "end_time": "2023-11-06T20:04:40.740839",
     "exception": false,
     "start_time": "2023-11-06T20:04:40.714802",
     "status": "completed"
    },
    "tags": []
   },
   "outputs": [
    {
     "name": "stdout",
     "output_type": "stream",
     "text": [
      "        age gender occupation zip_code\n",
      "count   944    944        944      944\n",
      "unique   62      3         22      796\n",
      "top      30      M    student    55414\n",
      "freq     39    670        196        9\n"
     ]
    }
   ],
   "source": [
    "#Summarize the DataFrame.\n",
    "summary = users.describe()\n",
    "print(summary)"
   ]
  },
  {
   "cell_type": "code",
   "execution_count": 14,
   "id": "4d5a38f2",
   "metadata": {
    "execution": {
     "iopub.execute_input": "2023-11-06T20:04:40.755367Z",
     "iopub.status.busy": "2023-11-06T20:04:40.755045Z",
     "iopub.status.idle": "2023-11-06T20:04:40.769649Z",
     "shell.execute_reply": "2023-11-06T20:04:40.768295Z"
    },
    "papermill": {
     "duration": 0.025008,
     "end_time": "2023-11-06T20:04:40.772542",
     "exception": false,
     "start_time": "2023-11-06T20:04:40.747534",
     "status": "completed"
    },
    "tags": []
   },
   "outputs": [
    {
     "name": "stdout",
     "output_type": "stream",
     "text": [
      "        age gender occupation zip_code\n",
      "count   944    944        944      944\n",
      "unique   62      3         22      796\n",
      "top      30      M    student    55414\n",
      "freq     39    670        196        9\n"
     ]
    }
   ],
   "source": [
    " #Summarize all the columns\n",
    "summary = users.describe(include='all')\n",
    "print(summary)"
   ]
  },
  {
   "cell_type": "code",
   "execution_count": 15,
   "id": "af9fac22",
   "metadata": {
    "execution": {
     "iopub.execute_input": "2023-11-06T20:04:40.787592Z",
     "iopub.status.busy": "2023-11-06T20:04:40.787237Z",
     "iopub.status.idle": "2023-11-06T20:04:40.795367Z",
     "shell.execute_reply": "2023-11-06T20:04:40.794018Z"
    },
    "papermill": {
     "duration": 0.019043,
     "end_time": "2023-11-06T20:04:40.798051",
     "exception": false,
     "start_time": "2023-11-06T20:04:40.779008",
     "status": "completed"
    },
    "tags": []
   },
   "outputs": [
    {
     "name": "stdout",
     "output_type": "stream",
     "text": [
      "occupation\n",
      "student          196\n",
      "other            105\n",
      "educator          95\n",
      "administrator     79\n",
      "engineer          67\n",
      "programmer        66\n",
      "librarian         51\n",
      "writer            45\n",
      "executive         32\n",
      "scientist         31\n",
      "artist            28\n",
      "technician        27\n",
      "marketing         26\n",
      "entertainment     18\n",
      "healthcare        16\n",
      "retired           14\n",
      "salesman          12\n",
      "lawyer            12\n",
      "none               9\n",
      "doctor             7\n",
      "homemaker          7\n",
      "occupation         1\n",
      "Name: count, dtype: int64\n"
     ]
    }
   ],
   "source": [
    "#Summarize only the occupation column\n",
    "occupation_summary = users['occupation'].value_counts()\n",
    "print(occupation_summary)"
   ]
  },
  {
   "cell_type": "code",
   "execution_count": 16,
   "id": "f11dd6d0",
   "metadata": {
    "execution": {
     "iopub.execute_input": "2023-11-06T20:04:40.812886Z",
     "iopub.status.busy": "2023-11-06T20:04:40.812526Z",
     "iopub.status.idle": "2023-11-06T20:04:40.821209Z",
     "shell.execute_reply": "2023-11-06T20:04:40.819713Z"
    },
    "papermill": {
     "duration": 0.01956,
     "end_time": "2023-11-06T20:04:40.823974",
     "exception": false,
     "start_time": "2023-11-06T20:04:40.804414",
     "status": "completed"
    },
    "tags": []
   },
   "outputs": [
    {
     "name": "stdout",
     "output_type": "stream",
     "text": [
      "Mean age of users: 34.05196182396607\n"
     ]
    }
   ],
   "source": [
    "#What is the mean age of users?\n",
    "users['age'] = pd.to_numeric(users['age'], errors='coerce')\n",
    "\n",
    "# Calculate the mean age, excluding NaN values\n",
    "mean_age = users['age'].mean()\n",
    "\n",
    "# Print the mean age\n",
    "print(\"Mean age of users:\", mean_age)"
   ]
  },
  {
   "cell_type": "code",
   "execution_count": 17,
   "id": "28638c14",
   "metadata": {
    "execution": {
     "iopub.execute_input": "2023-11-06T20:04:40.838744Z",
     "iopub.status.busy": "2023-11-06T20:04:40.838371Z",
     "iopub.status.idle": "2023-11-06T20:04:40.846214Z",
     "shell.execute_reply": "2023-11-06T20:04:40.844884Z"
    },
    "papermill": {
     "duration": 0.018155,
     "end_time": "2023-11-06T20:04:40.848545",
     "exception": false,
     "start_time": "2023-11-06T20:04:40.830390",
     "status": "completed"
    },
    "tags": []
   },
   "outputs": [
    {
     "name": "stdout",
     "output_type": "stream",
     "text": [
      "Age with the least occurrence: 7.0\n"
     ]
    }
   ],
   "source": [
    "#What is the age with least occurrence?\n",
    "age_counts = users['age'].value_counts()\n",
    "age_with_least_occurrence = age_counts.idxmin()\n",
    "\n",
    "# Print the age with the least occurrence\n",
    "print(\"Age with the least occurrence:\", age_with_least_occurrence)"
   ]
  },
  {
   "cell_type": "code",
   "execution_count": null,
   "id": "5c002f61",
   "metadata": {
    "papermill": {
     "duration": 0.006241,
     "end_time": "2023-11-06T20:04:40.861428",
     "exception": false,
     "start_time": "2023-11-06T20:04:40.855187",
     "status": "completed"
    },
    "tags": []
   },
   "outputs": [],
   "source": []
  }
 ],
 "metadata": {
  "kernelspec": {
   "display_name": "Python 3",
   "language": "python",
   "name": "python3"
  },
  "language_info": {
   "codemirror_mode": {
    "name": "ipython",
    "version": 3
   },
   "file_extension": ".py",
   "mimetype": "text/x-python",
   "name": "python",
   "nbconvert_exporter": "python",
   "pygments_lexer": "ipython3",
   "version": "3.10.12"
  },
  "papermill": {
   "default_parameters": {},
   "duration": 4.895342,
   "end_time": "2023-11-06T20:04:41.288555",
   "environment_variables": {},
   "exception": null,
   "input_path": "__notebook__.ipynb",
   "output_path": "__notebook__.ipynb",
   "parameters": {},
   "start_time": "2023-11-06T20:04:36.393213",
   "version": "2.4.0"
  }
 },
 "nbformat": 4,
 "nbformat_minor": 5
}
