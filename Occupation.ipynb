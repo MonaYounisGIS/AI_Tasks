{
  "nbformat": 4,
  "nbformat_minor": 0,
  "metadata": {
    "colab": {
      "provenance": [],
      "authorship_tag": "ABX9TyPig5dOS7vpIxxGNoVNXhYl",
      "include_colab_link": true
    },
    "kernelspec": {
      "name": "python3",
      "display_name": "Python 3"
    },
    "language_info": {
      "name": "python"
    }
  },
  "cells": [
    {
      "cell_type": "markdown",
      "metadata": {
        "id": "view-in-github",
        "colab_type": "text"
      },
      "source": [
        "<a href=\"https://colab.research.google.com/github/MonaYounisGIS/AI_Tasks/blob/main/Occupation.ipynb\" target=\"_parent\"><img src=\"https://colab.research.google.com/assets/colab-badge.svg\" alt=\"Open In Colab\"/></a>"
      ]
    },
    {
      "cell_type": "code",
      "execution_count": 2,
      "metadata": {
        "id": "RHO3x8JsTp00"
      },
      "outputs": [],
      "source": [
        "import pandas as pd"
      ]
    },
    {
      "cell_type": "code",
      "source": [
        "user_url = \"https://raw.githubusercontent.com/justmarkham/DAT8/master/data/u.user\"\n",
        "\n",
        "# Read the dataset into a DataFrame\n",
        "user_df = pd.read_csv(user_url, delimiter='|', header=None, names=['user_id', 'age', 'gender', 'occupation', 'zip_code'])\n",
        "\n",
        "# Display the first few rows of the DataFrame\n",
        "print(user_df.head())"
      ],
      "metadata": {
        "colab": {
          "base_uri": "https://localhost:8080/"
        },
        "id": "RShI7VG9dO9h",
        "outputId": "be3df229-cdd6-4b9e-f9e5-1fc4986f68e1"
      },
      "execution_count": 3,
      "outputs": [
        {
          "output_type": "stream",
          "name": "stdout",
          "text": [
            "   user_id  age  gender  occupation  zip_code\n",
            "0  user_id  age  gender  occupation  zip_code\n",
            "1        1   24       M  technician     85711\n",
            "2        2   53       F       other     94043\n",
            "3        3   23       M      writer     32067\n",
            "4        4   24       M  technician     43537\n"
          ]
        }
      ]
    },
    {
      "cell_type": "code",
      "source": [
        "# Check for non-numeric values in the \"age\" column\n",
        "non_numeric_age = user_df[~user_df['age'].str.isnumeric()]\n",
        "\n",
        "if not non_numeric_age.empty:\n",
        "    # Print rows with non-numeric values in the \"age\" column\n",
        "    print(\"Rows with non-numeric values in the 'age' column:\")\n",
        "    print(non_numeric_age)\n",
        "\n",
        "    # Handle non-numeric values, e.g., convert them to NaN\n",
        "    user_df['age'] = pd.to_numeric(user_df['age'], errors='coerce')\n",
        "\n",
        "# Group the data by occupation and calculate the mean age\n",
        "mean_age_per_occupation = user_df.groupby('occupation')['age'].mean()\n",
        "\n",
        "# Display the mean age per occupation\n",
        "print(mean_age_per_occupation)"
      ],
      "metadata": {
        "colab": {
          "base_uri": "https://localhost:8080/"
        },
        "id": "TMiLL4OJdPAz",
        "outputId": "466d5dae-14b0-4edd-df1d-1eeef1cae7a4"
      },
      "execution_count": 6,
      "outputs": [
        {
          "output_type": "stream",
          "name": "stdout",
          "text": [
            "Rows with non-numeric values in the 'age' column:\n",
            "   user_id  age  gender  occupation  zip_code\n",
            "0  user_id  age  gender  occupation  zip_code\n",
            "occupation\n",
            "administrator    38.746835\n",
            "artist           31.392857\n",
            "doctor           43.571429\n",
            "educator         42.010526\n",
            "engineer         36.388060\n",
            "entertainment    29.222222\n",
            "executive        38.718750\n",
            "healthcare       41.562500\n",
            "homemaker        32.571429\n",
            "lawyer           36.750000\n",
            "librarian        40.000000\n",
            "marketing        37.615385\n",
            "none             26.555556\n",
            "occupation             NaN\n",
            "other            34.523810\n",
            "programmer       33.121212\n",
            "retired          63.071429\n",
            "salesman         35.666667\n",
            "scientist        35.548387\n",
            "student          22.081633\n",
            "technician       33.148148\n",
            "writer           36.311111\n",
            "Name: age, dtype: float64\n"
          ]
        }
      ]
    },
    {
      "cell_type": "code",
      "source": [
        "# Convert the \"gender\" column to numeric values (M: 1, F: 0)\n",
        "user_df['gender_numeric'] = user_df['gender'].map({'M': 1, 'F': 0})\n",
        "\n",
        "# Group the data by occupation and calculate the mean of the numeric \"gender\" values\n",
        "male_ratio_per_occupation = user_df.groupby('occupation')['gender_numeric'].mean()\n",
        "\n",
        "# Sort the results from the most to the least\n",
        "male_ratio_per_occupation_sorted = male_ratio_per_occupation.sort_values(ascending=False)\n",
        "\n",
        "# Display the male ratio per occupation sorted\n",
        "print(male_ratio_per_occupation_sorted)"
      ],
      "metadata": {
        "colab": {
          "base_uri": "https://localhost:8080/"
        },
        "id": "_Z0GgTXkdPD7",
        "outputId": "263af175-1514-4ec9-d5eb-591d2145ad73"
      },
      "execution_count": 7,
      "outputs": [
        {
          "output_type": "stream",
          "name": "stdout",
          "text": [
            "occupation\n",
            "doctor           1.000000\n",
            "engineer         0.970149\n",
            "technician       0.962963\n",
            "retired          0.928571\n",
            "programmer       0.909091\n",
            "executive        0.906250\n",
            "scientist        0.903226\n",
            "entertainment    0.888889\n",
            "lawyer           0.833333\n",
            "salesman         0.750000\n",
            "educator         0.726316\n",
            "student          0.693878\n",
            "other            0.657143\n",
            "marketing        0.615385\n",
            "writer           0.577778\n",
            "none             0.555556\n",
            "administrator    0.544304\n",
            "artist           0.535714\n",
            "librarian        0.431373\n",
            "healthcare       0.312500\n",
            "homemaker        0.142857\n",
            "occupation            NaN\n",
            "Name: gender_numeric, dtype: float64\n"
          ]
        }
      ]
    },
    {
      "cell_type": "code",
      "source": [
        "# Convert the \"age\" column to numeric values (handling non-numeric values)\n",
        "user_df['age'] = pd.to_numeric(user_df['age'], errors='coerce')\n",
        "\n",
        "# Group the data by occupation and calculate the minimum and maximum ages\n",
        "age_stats_per_occupation = user_df.groupby('occupation')['age'].agg(['min', 'max'])\n",
        "\n",
        "# Display the minimum and maximum ages for each occupation\n",
        "print(age_stats_per_occupation)"
      ],
      "metadata": {
        "colab": {
          "base_uri": "https://localhost:8080/"
        },
        "id": "DHoHYzaOdPHE",
        "outputId": "0ff2170b-5ff4-4789-c14e-7cebc62bde6b"
      },
      "execution_count": 8,
      "outputs": [
        {
          "output_type": "stream",
          "name": "stdout",
          "text": [
            "                min   max\n",
            "occupation               \n",
            "administrator  21.0  70.0\n",
            "artist         19.0  48.0\n",
            "doctor         28.0  64.0\n",
            "educator       23.0  63.0\n",
            "engineer       22.0  70.0\n",
            "entertainment  15.0  50.0\n",
            "executive      22.0  69.0\n",
            "healthcare     22.0  62.0\n",
            "homemaker      20.0  50.0\n",
            "lawyer         21.0  53.0\n",
            "librarian      23.0  69.0\n",
            "marketing      24.0  55.0\n",
            "none           11.0  55.0\n",
            "occupation      NaN   NaN\n",
            "other          13.0  64.0\n",
            "programmer     20.0  63.0\n",
            "retired        51.0  73.0\n",
            "salesman       18.0  66.0\n",
            "scientist      23.0  55.0\n",
            "student         7.0  42.0\n",
            "technician     21.0  55.0\n",
            "writer         18.0  60.0\n"
          ]
        }
      ]
    },
    {
      "cell_type": "code",
      "source": [
        "# Convert the \"age\" column to numeric values (handling non-numeric values)\n",
        "user_df['age'] = pd.to_numeric(user_df['age'], errors='coerce')\n",
        "\n",
        "# Group the data by occupation and gender and calculate the mean age\n",
        "mean_age_per_occupation_gender = user_df.groupby(['occupation', 'gender'])['age'].mean()\n",
        "\n",
        "# Display the mean age for each combination of occupation and gender\n",
        "print(mean_age_per_occupation_gender)"
      ],
      "metadata": {
        "colab": {
          "base_uri": "https://localhost:8080/"
        },
        "id": "EIRt9EqbdPKW",
        "outputId": "d1b8ead7-4702-4c25-b1c2-1ee974ace5df"
      },
      "execution_count": 9,
      "outputs": [
        {
          "output_type": "stream",
          "name": "stdout",
          "text": [
            "occupation     gender\n",
            "administrator  F         40.638889\n",
            "               M         37.162791\n",
            "artist         F         30.307692\n",
            "               M         32.333333\n",
            "doctor         M         43.571429\n",
            "educator       F         39.115385\n",
            "               M         43.101449\n",
            "engineer       F         29.500000\n",
            "               M         36.600000\n",
            "entertainment  F         31.000000\n",
            "               M         29.000000\n",
            "executive      F         44.000000\n",
            "               M         38.172414\n",
            "healthcare     F         39.818182\n",
            "               M         45.400000\n",
            "homemaker      F         34.166667\n",
            "               M         23.000000\n",
            "lawyer         F         39.500000\n",
            "               M         36.200000\n",
            "librarian      F         40.000000\n",
            "               M         40.000000\n",
            "marketing      F         37.200000\n",
            "               M         37.875000\n",
            "none           F         36.500000\n",
            "               M         18.600000\n",
            "occupation     gender          NaN\n",
            "other          F         35.472222\n",
            "               M         34.028986\n",
            "programmer     F         32.166667\n",
            "               M         33.216667\n",
            "retired        F         70.000000\n",
            "               M         62.538462\n",
            "salesman       F         27.000000\n",
            "               M         38.555556\n",
            "scientist      F         28.333333\n",
            "               M         36.321429\n",
            "student        F         20.750000\n",
            "               M         22.669118\n",
            "technician     F         38.000000\n",
            "               M         32.961538\n",
            "writer         F         37.631579\n",
            "               M         35.346154\n",
            "Name: age, dtype: float64\n"
          ]
        }
      ]
    },
    {
      "cell_type": "code",
      "source": [
        "# Calculate the total count of each gender per occupation\n",
        "gender_counts_per_occupation = user_df.groupby(['occupation', 'gender']).size()\n",
        "\n",
        "# Calculate the total count of each occupation\n",
        "occupation_counts = user_df.groupby('occupation').size()\n",
        "\n",
        "# Calculate the percentage of women and men for each occupation\n",
        "gender_percentage_per_occupation = gender_counts_per_occupation / occupation_counts * 100\n",
        "\n",
        "# Display the percentage of women and men for each occupation\n",
        "print(gender_percentage_per_occupation)"
      ],
      "metadata": {
        "colab": {
          "base_uri": "https://localhost:8080/"
        },
        "id": "2zsAnzvUfQ99",
        "outputId": "faffaf9d-f252-4fb1-955d-0249004b47bc"
      },
      "execution_count": 11,
      "outputs": [
        {
          "output_type": "stream",
          "name": "stdout",
          "text": [
            "occupation     gender\n",
            "administrator  F          45.569620\n",
            "               M          54.430380\n",
            "artist         F          46.428571\n",
            "               M          53.571429\n",
            "doctor         M         100.000000\n",
            "educator       F          27.368421\n",
            "               M          72.631579\n",
            "engineer       F           2.985075\n",
            "               M          97.014925\n",
            "entertainment  F          11.111111\n",
            "               M          88.888889\n",
            "executive      F           9.375000\n",
            "               M          90.625000\n",
            "healthcare     F          68.750000\n",
            "               M          31.250000\n",
            "homemaker      F          85.714286\n",
            "               M          14.285714\n",
            "lawyer         F          16.666667\n",
            "               M          83.333333\n",
            "librarian      F          56.862745\n",
            "               M          43.137255\n",
            "marketing      F          38.461538\n",
            "               M          61.538462\n",
            "none           F          44.444444\n",
            "               M          55.555556\n",
            "occupation     gender    100.000000\n",
            "other          F          34.285714\n",
            "               M          65.714286\n",
            "programmer     F           9.090909\n",
            "               M          90.909091\n",
            "retired        F           7.142857\n",
            "               M          92.857143\n",
            "salesman       F          25.000000\n",
            "               M          75.000000\n",
            "scientist      F           9.677419\n",
            "               M          90.322581\n",
            "student        F          30.612245\n",
            "               M          69.387755\n",
            "technician     F           3.703704\n",
            "               M          96.296296\n",
            "writer         F          42.222222\n",
            "               M          57.777778\n",
            "dtype: float64\n"
          ]
        }
      ]
    }
  ]
}