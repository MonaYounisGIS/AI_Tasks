{
  "nbformat": 4,
  "nbformat_minor": 0,
  "metadata": {
    "colab": {
      "provenance": [],
      "authorship_tag": "ABX9TyOPTXSYRFKf4noMVCCK5wC4",
      "include_colab_link": true
    },
    "kernelspec": {
      "name": "python3",
      "display_name": "Python 3"
    },
    "language_info": {
      "name": "python"
    }
  },
  "cells": [
    {
      "cell_type": "markdown",
      "metadata": {
        "id": "view-in-github",
        "colab_type": "text"
      },
      "source": [
        "<a href=\"https://colab.research.google.com/github/MonaYounisGIS/AI_Tasks/blob/main/Regiment.ipynb\" target=\"_parent\"><img src=\"https://colab.research.google.com/assets/colab-badge.svg\" alt=\"Open In Colab\"/></a>"
      ]
    },
    {
      "cell_type": "code",
      "source": [
        "import pandas as pd"
      ],
      "metadata": {
        "id": "Z-y8Q192gdcy"
      },
      "execution_count": 3,
      "outputs": []
    },
    {
      "cell_type": "code",
      "source": [
        "raw_data = {'regiment': ['Nighthawks', 'Nighthawks', 'Nighthawks', 'Nighthawks', 'Dragoons', 'Dragoons', 'Dragoons', 'Dragoons', 'Scouts', 'Scouts', 'Scouts', 'Scouts'],\n",
        "        'company': ['1st', '1st', '2nd', '2nd', '1st', '1st', '2nd', '2nd','1st', '1st', '2nd', '2nd'],\n",
        "        'name': ['Miller', 'Jacobson', 'Ali', 'Milner', 'Cooze', 'Jacon', 'Ryaner', 'Sone', 'Sloan', 'Piger', 'Riani', 'Ali'],\n",
        "        'preTestScore': [4, 24, 31, 2, 3, 4, 24, 31, 2, 3, 2, 3],\n",
        "        'postTestScore': [25, 94, 57, 62, 70, 25, 94, 57, 62, 70, 62, 70]}"
      ],
      "metadata": {
        "id": "jeSCSCTrf6y_"
      },
      "execution_count": 4,
      "outputs": []
    },
    {
      "cell_type": "code",
      "source": [
        "# Create a DataFrame and assign it to the variable 'regiment'\n",
        "regiment = pd.DataFrame(raw_data)\n",
        "\n",
        "# Display the 'regiment' DataFrame\n",
        "print(regiment)"
      ],
      "metadata": {
        "colab": {
          "base_uri": "https://localhost:8080/"
        },
        "id": "18WqTp88f7IF",
        "outputId": "abfb937b-f0c6-45bb-ca40-70ec07f1c464"
      },
      "execution_count": 5,
      "outputs": [
        {
          "output_type": "stream",
          "name": "stdout",
          "text": [
            "      regiment company      name  preTestScore  postTestScore\n",
            "0   Nighthawks     1st    Miller             4             25\n",
            "1   Nighthawks     1st  Jacobson            24             94\n",
            "2   Nighthawks     2nd       Ali            31             57\n",
            "3   Nighthawks     2nd    Milner             2             62\n",
            "4     Dragoons     1st     Cooze             3             70\n",
            "5     Dragoons     1st     Jacon             4             25\n",
            "6     Dragoons     2nd    Ryaner            24             94\n",
            "7     Dragoons     2nd      Sone            31             57\n",
            "8       Scouts     1st     Sloan             2             62\n",
            "9       Scouts     1st     Piger             3             70\n",
            "10      Scouts     2nd     Riani             2             62\n",
            "11      Scouts     2nd       Ali             3             70\n"
          ]
        }
      ]
    },
    {
      "cell_type": "code",
      "source": [
        "# Filter rows where 'regiment' is 'Nighthawks'\n",
        "nighthawks_data = regiment.loc[regiment['regiment'] == 'Nighthawks']\n",
        "\n",
        "# Calculate the mean of the 'preTestScore' column for Nighthawks\n",
        "mean_preTestScore_nighthawks = nighthawks_data['preTestScore'].mean()\n",
        "\n",
        "# Display the result\n",
        "print(\"Mean preTestScore for Nighthawks:\", mean_preTestScore_nighthawks)"
      ],
      "metadata": {
        "colab": {
          "base_uri": "https://localhost:8080/"
        },
        "id": "xQpdtMosg3rj",
        "outputId": "c1094590-8fe7-43d2-92db-36082ca30cf2"
      },
      "execution_count": 6,
      "outputs": [
        {
          "output_type": "stream",
          "name": "stdout",
          "text": [
            "Mean preTestScore for Nighthawks: 15.25\n"
          ]
        }
      ]
    },
    {
      "cell_type": "code",
      "source": [
        "# Group the data by 'company' and calculate general statistics\n",
        "company_statistics = regiment.groupby('company').describe()\n",
        "\n",
        "# Display the general statistics by company\n",
        "print(company_statistics)"
      ],
      "metadata": {
        "colab": {
          "base_uri": "https://localhost:8080/"
        },
        "id": "3KsdWARAg3vJ",
        "outputId": "5aceec3c-be60-42d1-cb65-f3443badd21b"
      },
      "execution_count": 7,
      "outputs": [
        {
          "output_type": "stream",
          "name": "stdout",
          "text": [
            "        preTestScore                                                      \\\n",
            "               count       mean        std  min   25%   50%    75%   max   \n",
            "company                                                                    \n",
            "1st              6.0   6.666667   8.524475  2.0  3.00   3.5   4.00  24.0   \n",
            "2nd              6.0  15.500000  14.652645  2.0  2.25  13.5  29.25  31.0   \n",
            "\n",
            "        postTestScore                                                       \n",
            "                count       mean        std   min    25%   50%   75%   max  \n",
            "company                                                                     \n",
            "1st               6.0  57.666667  27.485754  25.0  34.25  66.0  70.0  94.0  \n",
            "2nd               6.0  67.000000  14.057027  57.0  58.25  62.0  68.0  94.0  \n"
          ]
        }
      ]
    },
    {
      "cell_type": "code",
      "source": [
        "\n",
        "# Group the data by 'company' and calculate the mean of 'preTestScore'\n",
        "mean_preTestScore_by_company = regiment.groupby('company')['preTestScore'].mean()\n",
        "\n",
        "# Display the mean preTestScore for each company\n",
        "print(mean_preTestScore_by_company)"
      ],
      "metadata": {
        "colab": {
          "base_uri": "https://localhost:8080/"
        },
        "id": "mFppD9wrg3yq",
        "outputId": "45baca49-2f24-4804-a64e-365abcde32a2"
      },
      "execution_count": 8,
      "outputs": [
        {
          "output_type": "stream",
          "name": "stdout",
          "text": [
            "company\n",
            "1st     6.666667\n",
            "2nd    15.500000\n",
            "Name: preTestScore, dtype: float64\n"
          ]
        }
      ]
    },
    {
      "cell_type": "code",
      "source": [
        "# Group the data by 'regiment' and 'company' and calculate the mean of 'preTestScore'\n",
        "mean_preTestScore_by_regiment_company = regiment.groupby(['regiment', 'company'])['preTestScore'].mean()\n",
        "\n",
        "# Display the mean preTestScore for each regiment and company\n",
        "print(mean_preTestScore_by_regiment_company)"
      ],
      "metadata": {
        "colab": {
          "base_uri": "https://localhost:8080/"
        },
        "id": "2Aih00aShHLT",
        "outputId": "9794a528-0ac4-4e5b-8d96-c8ff9a96f471"
      },
      "execution_count": 9,
      "outputs": [
        {
          "output_type": "stream",
          "name": "stdout",
          "text": [
            "regiment    company\n",
            "Dragoons    1st         3.5\n",
            "            2nd        27.5\n",
            "Nighthawks  1st        14.0\n",
            "            2nd        16.5\n",
            "Scouts      1st         2.5\n",
            "            2nd         2.5\n",
            "Name: preTestScore, dtype: float64\n"
          ]
        }
      ]
    },
    {
      "cell_type": "code",
      "source": [
        "# Group the data by 'regiment' and 'company' and calculate the mean of 'preTestScore'\n",
        "mean_preTestScore_by_regiment_company = regiment.groupby(['regiment', 'company'])['preTestScore'].mean()\n",
        "\n",
        "# Reset the index to flatten the result\n",
        "mean_preTestScore_by_regiment_company = mean_preTestScore_by_regiment_company.reset_index()\n",
        "\n",
        "# Display the mean preTestScore for each regiment and company without hierarchical indexing\n",
        "print(mean_preTestScore_by_regiment_company)"
      ],
      "metadata": {
        "colab": {
          "base_uri": "https://localhost:8080/"
        },
        "id": "MxyClzcYhHRB",
        "outputId": "4c0197dc-afaa-4fa6-d0fd-c5bfc3433567"
      },
      "execution_count": 10,
      "outputs": [
        {
          "output_type": "stream",
          "name": "stdout",
          "text": [
            "     regiment company  preTestScore\n",
            "0    Dragoons     1st           3.5\n",
            "1    Dragoons     2nd          27.5\n",
            "2  Nighthawks     1st          14.0\n",
            "3  Nighthawks     2nd          16.5\n",
            "4      Scouts     1st           2.5\n",
            "5      Scouts     2nd           2.5\n"
          ]
        }
      ]
    },
    {
      "cell_type": "code",
      "source": [
        "# Group the entire DataFrame by 'regiment' and 'company'\n",
        "grouped_data = regiment.groupby(['regiment', 'company'])\n",
        "\n",
        "# Display the groups\n",
        "for group, data in grouped_data:\n",
        "    print(f\"Group: {group}\")\n",
        "    print(data)\n",
        "    print(\"\\n\")"
      ],
      "metadata": {
        "colab": {
          "base_uri": "https://localhost:8080/"
        },
        "id": "le01l5OZhHVO",
        "outputId": "5e0901cd-4708-49f6-bb14-aedef7cfab6b"
      },
      "execution_count": 11,
      "outputs": [
        {
          "output_type": "stream",
          "name": "stdout",
          "text": [
            "Group: ('Dragoons', '1st')\n",
            "   regiment company   name  preTestScore  postTestScore\n",
            "4  Dragoons     1st  Cooze             3             70\n",
            "5  Dragoons     1st  Jacon             4             25\n",
            "\n",
            "\n",
            "Group: ('Dragoons', '2nd')\n",
            "   regiment company    name  preTestScore  postTestScore\n",
            "6  Dragoons     2nd  Ryaner            24             94\n",
            "7  Dragoons     2nd    Sone            31             57\n",
            "\n",
            "\n",
            "Group: ('Nighthawks', '1st')\n",
            "     regiment company      name  preTestScore  postTestScore\n",
            "0  Nighthawks     1st    Miller             4             25\n",
            "1  Nighthawks     1st  Jacobson            24             94\n",
            "\n",
            "\n",
            "Group: ('Nighthawks', '2nd')\n",
            "     regiment company    name  preTestScore  postTestScore\n",
            "2  Nighthawks     2nd     Ali            31             57\n",
            "3  Nighthawks     2nd  Milner             2             62\n",
            "\n",
            "\n",
            "Group: ('Scouts', '1st')\n",
            "  regiment company   name  preTestScore  postTestScore\n",
            "8   Scouts     1st  Sloan             2             62\n",
            "9   Scouts     1st  Piger             3             70\n",
            "\n",
            "\n",
            "Group: ('Scouts', '2nd')\n",
            "   regiment company   name  preTestScore  postTestScore\n",
            "10   Scouts     2nd  Riani             2             62\n",
            "11   Scouts     2nd    Ali             3             70\n",
            "\n",
            "\n"
          ]
        }
      ]
    },
    {
      "cell_type": "code",
      "source": [
        "# Group the data by 'regiment' and 'company' and calculate the number of observations\n",
        "observations_count = regiment.groupby(['regiment', 'company']).size()\n",
        "\n",
        "# Reset the index to flatten the result\n",
        "observations_count = observations_count.reset_index(name='observations_count')\n",
        "\n",
        "# Display the number of observations for each regiment and company\n",
        "print(observations_count)"
      ],
      "metadata": {
        "colab": {
          "base_uri": "https://localhost:8080/"
        },
        "id": "VgXZQI-9g321",
        "outputId": "e1b1518d-bac2-411f-f462-44310848b8b9"
      },
      "execution_count": 12,
      "outputs": [
        {
          "output_type": "stream",
          "name": "stdout",
          "text": [
            "     regiment company  observations_count\n",
            "0    Dragoons     1st                   2\n",
            "1    Dragoons     2nd                   2\n",
            "2  Nighthawks     1st                   2\n",
            "3  Nighthawks     2nd                   2\n",
            "4      Scouts     1st                   2\n",
            "5      Scouts     2nd                   2\n"
          ]
        }
      ]
    },
    {
      "cell_type": "code",
      "source": [
        "# Group the data by 'regiment' and 'company'\n",
        "grouped_data = regiment.groupby(['regiment', 'company'])\n",
        "\n",
        "# Iterate over groups and print the name and the whole data\n",
        "for name, data in grouped_data:\n",
        "    print(f\"Group Name: {name}\")\n",
        "    print(\"Group Data:\")\n",
        "    print(data)\n",
        "    print(\"\\n\")"
      ],
      "metadata": {
        "colab": {
          "base_uri": "https://localhost:8080/"
        },
        "id": "For97VYdhkxi",
        "outputId": "fadf23c0-0d70-4c2f-e669-2730a2a0b3e2"
      },
      "execution_count": 14,
      "outputs": [
        {
          "output_type": "stream",
          "name": "stdout",
          "text": [
            "Group Name: ('Dragoons', '1st')\n",
            "Group Data:\n",
            "   regiment company   name  preTestScore  postTestScore\n",
            "4  Dragoons     1st  Cooze             3             70\n",
            "5  Dragoons     1st  Jacon             4             25\n",
            "\n",
            "\n",
            "Group Name: ('Dragoons', '2nd')\n",
            "Group Data:\n",
            "   regiment company    name  preTestScore  postTestScore\n",
            "6  Dragoons     2nd  Ryaner            24             94\n",
            "7  Dragoons     2nd    Sone            31             57\n",
            "\n",
            "\n",
            "Group Name: ('Nighthawks', '1st')\n",
            "Group Data:\n",
            "     regiment company      name  preTestScore  postTestScore\n",
            "0  Nighthawks     1st    Miller             4             25\n",
            "1  Nighthawks     1st  Jacobson            24             94\n",
            "\n",
            "\n",
            "Group Name: ('Nighthawks', '2nd')\n",
            "Group Data:\n",
            "     regiment company    name  preTestScore  postTestScore\n",
            "2  Nighthawks     2nd     Ali            31             57\n",
            "3  Nighthawks     2nd  Milner             2             62\n",
            "\n",
            "\n",
            "Group Name: ('Scouts', '1st')\n",
            "Group Data:\n",
            "  regiment company   name  preTestScore  postTestScore\n",
            "8   Scouts     1st  Sloan             2             62\n",
            "9   Scouts     1st  Piger             3             70\n",
            "\n",
            "\n",
            "Group Name: ('Scouts', '2nd')\n",
            "Group Data:\n",
            "   regiment company   name  preTestScore  postTestScore\n",
            "10   Scouts     2nd  Riani             2             62\n",
            "11   Scouts     2nd    Ali             3             70\n",
            "\n",
            "\n"
          ]
        }
      ]
    },
    {
      "cell_type": "code",
      "source": [],
      "metadata": {
        "id": "tYpRWK9shk1I"
      },
      "execution_count": null,
      "outputs": []
    },
    {
      "cell_type": "code",
      "source": [],
      "metadata": {
        "id": "BM4_r4-2hk4f"
      },
      "execution_count": null,
      "outputs": []
    }
  ]
}