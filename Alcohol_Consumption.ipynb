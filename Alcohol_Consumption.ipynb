{
  "nbformat": 4,
  "nbformat_minor": 0,
  "metadata": {
    "colab": {
      "provenance": [],
      "authorship_tag": "ABX9TyN4oK+j3zpcoFe1TjRui9NB",
      "include_colab_link": true
    },
    "kernelspec": {
      "name": "python3",
      "display_name": "Python 3"
    },
    "language_info": {
      "name": "python"
    }
  },
  "cells": [
    {
      "cell_type": "markdown",
      "metadata": {
        "id": "view-in-github",
        "colab_type": "text"
      },
      "source": [
        "<a href=\"https://colab.research.google.com/github/MonaYounisGIS/AI_Tasks/blob/main/Alcohol_Consumption.ipynb\" target=\"_parent\"><img src=\"https://colab.research.google.com/assets/colab-badge.svg\" alt=\"Open In Colab\"/></a>"
      ]
    },
    {
      "cell_type": "code",
      "execution_count": 19,
      "metadata": {
        "id": "28-POYCrIAxA"
      },
      "outputs": [],
      "source": [
        "import pandas as pd\n",
        "import requests\n",
        "import io\n",
        "\n",
        "drinks_url = \"https://raw.githubusercontent.com/justmarkham/DAT8/master/data/drinks.csv\"\n",
        "df = pd.read_csv(io.StringIO(requests.get(drinks_url).content.decode()))"
      ]
    },
    {
      "cell_type": "code",
      "source": [
        "# Display the shape and a sample of the data in the DataFrame 'df'\n",
        "print(df.shape)\n",
        "print(df.head())"
      ],
      "metadata": {
        "colab": {
          "base_uri": "https://localhost:8080/"
        },
        "id": "Q2g8b9qqLCh3",
        "outputId": "33385043-a3c5-421a-e245-ac24614fc373"
      },
      "execution_count": 20,
      "outputs": [
        {
          "output_type": "stream",
          "name": "stdout",
          "text": [
            "(193, 6)\n",
            "       country  beer_servings  spirit_servings  wine_servings  \\\n",
            "0  Afghanistan              0                0              0   \n",
            "1      Albania             89              132             54   \n",
            "2      Algeria             25                0             14   \n",
            "3      Andorra            245              138            312   \n",
            "4       Angola            217               57             45   \n",
            "\n",
            "   total_litres_of_pure_alcohol continent  \n",
            "0                           0.0        AS  \n",
            "1                           4.9        EU  \n",
            "2                           0.7        AF  \n",
            "3                          12.4        EU  \n",
            "4                           5.9        AF  \n"
          ]
        }
      ]
    },
    {
      "cell_type": "code",
      "source": [
        "# Group the data by continent and calculate the average beer consumption\n",
        "df_grouped = df.groupby(\"continent\")[\"beer_servings\"].mean().reset_index()"
      ],
      "metadata": {
        "id": "CZCH_0cJOoWO"
      },
      "execution_count": 28,
      "outputs": []
    },
    {
      "cell_type": "code",
      "source": [
        "# Find the continent with the highest average beer consumption\n",
        "max_beer_continent = df_grouped.loc[df_grouped[\"beer_servings\"].idxmax(), \"continent\"]\n"
      ],
      "metadata": {
        "id": "348_HLGMOoZu"
      },
      "execution_count": 29,
      "outputs": []
    },
    {
      "cell_type": "code",
      "source": [
        "print(f\"The continent that drinks more beer on average is: {max_beer_continent}\")"
      ],
      "metadata": {
        "colab": {
          "base_uri": "https://localhost:8080/"
        },
        "id": "6lzOJEraOodH",
        "outputId": "3c07402f-dee5-4ef7-d0b9-9b16ff15331c"
      },
      "execution_count": 30,
      "outputs": [
        {
          "output_type": "stream",
          "name": "stdout",
          "text": [
            "The continent that drinks more beer on average is: EU\n"
          ]
        }
      ]
    },
    {
      "cell_type": "code",
      "source": [
        "# Group the data by continent and calculate the statistics for wine consumption\n",
        "wine_stats = df.groupby(\"continent\")[\"wine_servings\"].describe()\n",
        "\n",
        "# Display the statistics for wine consumption for each continent\n",
        "print(wine_stats)"
      ],
      "metadata": {
        "colab": {
          "base_uri": "https://localhost:8080/"
        },
        "id": "lHiHhSaYOom8",
        "outputId": "f524a864-26ef-4158-9840-52c99c113e60"
      },
      "execution_count": 32,
      "outputs": [
        {
          "output_type": "stream",
          "name": "stdout",
          "text": [
            "           count        mean        std  min   25%    50%     75%    max\n",
            "continent                                                               \n",
            "AF          53.0   16.264151  38.846419  0.0   1.0    2.0   13.00  233.0\n",
            "AS          44.0    9.068182  21.667034  0.0   0.0    1.0    8.00  123.0\n",
            "EU          45.0  142.222222  97.421738  0.0  59.0  128.0  195.00  370.0\n",
            "OC          16.0   35.625000  64.555790  0.0   1.0    8.5   23.25  212.0\n",
            "SA          12.0   62.416667  88.620189  1.0   3.0   12.0   98.50  221.0\n"
          ]
        }
      ]
    },
    {
      "cell_type": "code",
      "source": [
        "# Group the data by continent and calculate the mean for each column\n",
        "mean_alcohol_consumption = df.groupby(\"continent\").mean()\n",
        "\n",
        "# Display the mean alcohol consumption for every column for each continent\n",
        "print(mean_alcohol_consumption)"
      ],
      "metadata": {
        "colab": {
          "base_uri": "https://localhost:8080/"
        },
        "id": "rH169oOSP3dL",
        "outputId": "65261368-2cea-43a6-ec6a-7d19f36e5af2"
      },
      "execution_count": 33,
      "outputs": [
        {
          "output_type": "stream",
          "name": "stdout",
          "text": [
            "           beer_servings  spirit_servings  wine_servings  \\\n",
            "continent                                                  \n",
            "AF             61.471698        16.339623      16.264151   \n",
            "AS             37.045455        60.840909       9.068182   \n",
            "EU            193.777778       132.555556     142.222222   \n",
            "OC             89.687500        58.437500      35.625000   \n",
            "SA            175.083333       114.750000      62.416667   \n",
            "\n",
            "           total_litres_of_pure_alcohol  \n",
            "continent                                \n",
            "AF                             3.007547  \n",
            "AS                             2.170455  \n",
            "EU                             8.617778  \n",
            "OC                             3.381250  \n",
            "SA                             6.308333  \n"
          ]
        },
        {
          "output_type": "stream",
          "name": "stderr",
          "text": [
            "<ipython-input-33-13965cb75188>:2: FutureWarning: The default value of numeric_only in DataFrameGroupBy.mean is deprecated. In a future version, numeric_only will default to False. Either specify numeric_only or select only columns which should be valid for the function.\n",
            "  mean_alcohol_consumption = df.groupby(\"continent\").mean()\n"
          ]
        }
      ]
    },
    {
      "cell_type": "code",
      "source": [
        "\n",
        "# Group the data by continent and calculate the mean, min, and max for spirit consumption\n",
        "spirit_stats = df.groupby(\"continent\")[\"spirit_servings\"].agg(['mean', 'min', 'max'])\n",
        "\n",
        "# Display the mean, min, and max values for spirit consumption for each continent\n",
        "print(spirit_stats)"
      ],
      "metadata": {
        "colab": {
          "base_uri": "https://localhost:8080/"
        },
        "id": "1Uox1tqyP-Up",
        "outputId": "28f6b1e9-0aba-4157-863c-0f3dbe9400f4"
      },
      "execution_count": 34,
      "outputs": [
        {
          "output_type": "stream",
          "name": "stdout",
          "text": [
            "                 mean  min  max\n",
            "continent                      \n",
            "AF          16.339623    0  152\n",
            "AS          60.840909    0  326\n",
            "EU         132.555556    0  373\n",
            "OC          58.437500    0  254\n",
            "SA         114.750000   25  302\n"
          ]
        }
      ]
    },
    {
      "cell_type": "code",
      "source": [],
      "metadata": {
        "id": "iYCGaNytP-dE"
      },
      "execution_count": null,
      "outputs": []
    }
  ]
}